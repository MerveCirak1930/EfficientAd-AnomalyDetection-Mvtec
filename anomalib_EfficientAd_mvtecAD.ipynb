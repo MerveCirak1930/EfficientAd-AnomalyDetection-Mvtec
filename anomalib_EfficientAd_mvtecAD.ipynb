{
  "cells": [
    {
      "cell_type": "markdown",
      "metadata": {
        "id": "YWpg3tmZN0mf"
      },
      "source": [
        "# Anomaly Detection: EfficientAD model, Mvtec dataset"
      ]
    },
    {
      "cell_type": "code",
      "execution_count": null,
      "metadata": {
        "id": "C3fg6-KpNkjV"
      },
      "outputs": [],
      "source": [
        "%pip install anomalib"
      ]
    },
    {
      "cell_type": "code",
      "execution_count": null,
      "metadata": {
        "colab": {
          "background_save": true
        },
        "id": "EclqJ6oVOVBL"
      },
      "outputs": [],
      "source": [
        "pip install lightning"
      ]
    },
    {
      "cell_type": "code",
      "execution_count": null,
      "metadata": {
        "id": "1o5PcPySOU-E"
      },
      "outputs": [],
      "source": [
        "pip install kornia"
      ]
    },
    {
      "cell_type": "code",
      "execution_count": null,
      "metadata": {
        "id": "f3rO6hMlcHTG"
      },
      "outputs": [],
      "source": [
        "!pip install --upgrade anomalib"
      ]
    },
    {
      "cell_type": "code",
      "execution_count": null,
      "metadata": {
        "id": "br__DgXy-Zgv"
      },
      "outputs": [],
      "source": [
        "import anomalib.data as ad\n",
        "\n",
        "# anomalib.data modülü içinde tanımlı olan tüm alt sınıfları, fonksiyonları, objeleri ve alt modülleri listeler.\n",
        "print(dir(ad))"
      ]
    },
    {
      "cell_type": "markdown",
      "metadata": {
        "id": "YAhB74tR-bXs"
      },
      "source": [
        "- ImageNet veri seti, Anomalib içinde hazır bir DataModule veya Dataset sınıfı olarak yer almıyor.\n",
        "\n",
        "- Yani MVTecAD Dataset gibi doğrudan çağırabileceğin bir ImageNetDataset tanımı yok.\n",
        "\n",
        "- Çünkü ImageNet genelde sınıflandırma problemleri için kullanılır; anomalib ise anomali tespiti problemlerine odaklanır."
      ]
    },
    {
      "cell_type": "code",
      "execution_count": null,
      "metadata": {
        "id": "85qQgKO8OUkI"
      },
      "outputs": [],
      "source": [
        "from pathlib import Path\n",
        "\n",
        "# NOTE: Provide the path to the dataset root directory.\n",
        "#   If the datasets is not downloaded, it will be downloaded\n",
        "#   to this directory.\n",
        "dataset_root = Path.cwd().parent.parent.parent / \"datasets\" / \"MVTecAD\""
      ]
    },
    {
      "cell_type": "code",
      "execution_count": null,
      "metadata": {
        "id": "U8Gna-1rNQaN"
      },
      "outputs": [],
      "source": [
        "# import shutil\n",
        "\n",
        "# # 2. Check if the directory exists and delete it if it does\n",
        "# if dataset_root.exists() and dataset_root.is_dir():\n",
        "#     shutil.rmtree(dataset_root)\n",
        "#     print(f\"Deleted existing dataset directory: {dataset_root}\")\n",
        "# else:\n",
        "#     print(f\"Dataset directory not found: {dataset_root}\")"
      ]
    },
    {
      "cell_type": "code",
      "execution_count": null,
      "metadata": {
        "id": "od6OLF8dOUhB"
      },
      "outputs": [],
      "source": [
        "import numpy as np\n",
        "from PIL import Image\n",
        "from torchvision.transforms.v2.functional import to_pil_image\n",
        "\n",
        "from anomalib.data import MVTecAD, MVTecADDataset"
      ]
    },
    {
      "cell_type": "code",
      "execution_count": null,
      "metadata": {
        "id": "oKpmRqwXOUd7"
      },
      "outputs": [],
      "source": [
        "datamodule = MVTecAD(\n",
        "    root=dataset_root,\n",
        "    category=\"bottle\",\n",
        "    train_batch_size=1, # 32 hata verdi\n",
        "    eval_batch_size=32,\n",
        "    num_workers=0,\n",
        ")"
      ]
    },
    {
      "cell_type": "code",
      "execution_count": null,
      "metadata": {
        "id": "M7p64Q75OUac"
      },
      "outputs": [],
      "source": [
        "datamodule.prepare_data()\n",
        "datamodule.setup()"
      ]
    },
    {
      "cell_type": "code",
      "execution_count": null,
      "metadata": {
        "id": "HskMqbFXOUXv"
      },
      "outputs": [],
      "source": [
        "# Train images\n",
        "i, data = next(enumerate(datamodule.train_dataloader()))\n",
        "print(data.image.shape)"
      ]
    },
    {
      "cell_type": "code",
      "execution_count": null,
      "metadata": {
        "id": "_ElpaPWFOUU3"
      },
      "outputs": [],
      "source": [
        "# Test images\n",
        "i, data = next(enumerate(datamodule.test_dataloader()))\n",
        "print(data.image.shape, data.gt_mask.shape)"
      ]
    },
    {
      "cell_type": "code",
      "execution_count": null,
      "metadata": {
        "id": "3JkhpVFpOURx"
      },
      "outputs": [],
      "source": [
        "img = to_pil_image(data.image[1].clone())\n",
        "msk = to_pil_image(data.gt_mask[1].int() * 255).convert(\"RGB\")\n",
        "\n",
        "Image.fromarray(np.hstack((np.array(img), np.array(msk))))"
      ]
    },
    {
      "cell_type": "code",
      "execution_count": null,
      "metadata": {
        "id": "CnBGsHT7gBI3"
      },
      "outputs": [],
      "source": [
        "# MVTec dataset\n",
        "mvtec_dataset_train = MVTecADDataset(\n",
        "    root=dataset_root,\n",
        "    category=\"bottle\",\n",
        "    split=\"train\",\n",
        ")\n",
        "print(len(mvtec_dataset_train))\n",
        "sample = mvtec_dataset_train[1]\n",
        "print(sample.image.shape, sample.image_path, sample.gt_label)"
      ]
    },
    {
      "cell_type": "code",
      "execution_count": null,
      "metadata": {
        "id": "rKzprGVfgBDG"
      },
      "outputs": [],
      "source": [
        "# MVTec Classification Test Set\n",
        "mvtec_dataset_test = MVTecADDataset(\n",
        "    root=dataset_root,\n",
        "    category=\"bottle\",\n",
        "    split=\"test\",\n",
        ")\n",
        "print(len(mvtec_dataset_test))\n",
        "sample = mvtec_dataset_test[1]\n",
        "print(sample.image.shape, sample.image_path, sample.gt_label)"
      ]
    },
    {
      "cell_type": "code",
      "execution_count": null,
      "metadata": {
        "id": "hItC7A73gA-8"
      },
      "outputs": [],
      "source": [
        "img = to_pil_image(sample.image.clone())\n",
        "msk = to_pil_image(sample.gt_mask.int() * 255).convert(\"RGB\")\n",
        "\n",
        "Image.fromarray(np.hstack((np.array(img), np.array(msk))))"
      ]
    },
    {
      "cell_type": "code",
      "execution_count": null,
      "metadata": {
        "id": "wE8Vu5gmgA2X"
      },
      "outputs": [],
      "source": [
        "!pip install openvino-dev"
      ]
    },
    {
      "cell_type": "code",
      "execution_count": null,
      "metadata": {
        "id": "jo3y79xHgMuV"
      },
      "outputs": [],
      "source": [
        "pip install FrEIA"
      ]
    },
    {
      "cell_type": "code",
      "execution_count": null,
      "metadata": {
        "id": "mvezJVT8gMrI"
      },
      "outputs": [],
      "source": [
        "pip install python-dotenv"
      ]
    },
    {
      "cell_type": "code",
      "execution_count": null,
      "metadata": {
        "id": "24k6wldugMoC"
      },
      "outputs": [],
      "source": [
        "pip install open_clip_torch"
      ]
    },
    {
      "cell_type": "code",
      "execution_count": null,
      "metadata": {
        "id": "Veh_MmFNwy__"
      },
      "outputs": [],
      "source": [
        "!pip install anomalib timm --quiet"
      ]
    },
    {
      "cell_type": "code",
      "execution_count": null,
      "metadata": {
        "id": "K6Dl-KGt2G0r"
      },
      "outputs": [],
      "source": [
        "import anomalib.models as ef\n",
        "\n",
        "# modülü içinde tanımlı olan tüm alt sınıfları, fonksiyonları, objeleri ve alt modülleri listeler.\n",
        "print(dir(ef))"
      ]
    },
    {
      "cell_type": "code",
      "execution_count": null,
      "metadata": {
        "id": "Etjx6GuNwy76"
      },
      "outputs": [],
      "source": [
        "from anomalib.models import EfficientAd\n",
        "from anomalib.data import MVTec\n",
        "from anomalib.engine import Engine\n",
        "from lightning.pytorch.callbacks import EarlyStopping, ModelCheckpoint\n",
        "\n",
        "import numpy as np\n",
        "from PIL import Image\n",
        "from pathlib import Path"
      ]
    },
    {
      "cell_type": "code",
      "execution_count": null,
      "metadata": {
        "id": "iwgEDK893KAO"
      },
      "outputs": [],
      "source": [
        "!pip install --upgrade anomalib"
      ]
    },
    {
      "cell_type": "code",
      "execution_count": null,
      "metadata": {
        "id": "pN6Bx1mr6rgj"
      },
      "outputs": [],
      "source": [
        "!pip install --upgrade --force-reinstall anomalib"
      ]
    },
    {
      "cell_type": "code",
      "execution_count": null,
      "metadata": {
        "id": "KGXQrGa890SV"
      },
      "outputs": [],
      "source": [
        "model = EfficientAd()"
      ]
    },
    {
      "cell_type": "code",
      "execution_count": null,
      "metadata": {
        "id": "wbst8D2oRmiu"
      },
      "outputs": [],
      "source": [
        "# Eğitim sırasında kullanılacak callback'ler\n",
        "callbacks = [\n",
        "    ModelCheckpoint(\n",
        "        # pixel_AUROC yerine train_loss veya train_loss_epoch gibi bir metrik kullanın\n",
        "        monitor=\"train_loss_epoch\",\n",
        "        mode=\"min\"  # train_loss için mode genellikle \"min\" olur\n",
        "    ),\n",
        "    EarlyStopping(\n",
        "        # pixel_AUROC yerine train_loss veya train_loss_epoch gibi bir metrik kullanın\n",
        "        monitor=\"train_loss_epoch\",\n",
        "        mode=\"min\",  # train_loss için mode genellikle \"min\" olur\n",
        "        patience=3\n",
        "    ),\n",
        "]"
      ]
    },
    {
      "cell_type": "code",
      "execution_count": null,
      "metadata": {
        "id": "o2q6B7uogMfD"
      },
      "outputs": [],
      "source": [
        "# Eğitim motoru\n",
        "engine = Engine(\n",
        "    callbacks=callbacks,\n",
        "    accelerator=\"auto\",\n",
        "    devices=1,\n",
        "    logger=False\n",
        ")\n"
      ]
    },
    {
      "cell_type": "code",
      "execution_count": null,
      "metadata": {
        "id": "QzTyNnchgMcU"
      },
      "outputs": [],
      "source": [
        "# Trains the model using the dataset\n",
        "engine.fit(datamodule=datamodule, model=model)"
      ]
    },
    {
      "cell_type": "code",
      "execution_count": null,
      "metadata": {
        "id": "rWn7QLqWkEKx"
      },
      "outputs": [],
      "source": [
        "print(\"Eğitimin maksimum epoch sınırı:\", engine.trainer.max_epochs)\n"
      ]
    },
    {
      "cell_type": "code",
      "execution_count": null,
      "metadata": {
        "id": "usPShXmUgjen"
      },
      "outputs": [],
      "source": [
        "# Eğitim sürecinde maksimum kaç epoch çalıştırılacağı\n",
        "print(\"🔢 Maksimum Epoch Sayısı (max_epochs):\", engine.trainer.max_epochs)\n",
        "\n",
        "# Eğitim sürecinde en az kaç epoch çalıştırılacağı\n",
        "print(\"🔢 Minimum Epoch Sayısı (min_epochs):\", engine.trainer.min_epochs)\n",
        "\n",
        "# Şu anda eğitim hangi epoch'ta? (0'dan başlar)\n",
        "print(\"📍 Şu Anki Epoch (current_epoch):\", engine.trainer.current_epoch)\n",
        "\n",
        "# Eğitimde hangi hızlandırıcı (GPU, CPU, MPS) kullanılıyor?\n",
        "print(\"⚡ Kullanılan Hızlandırıcı (accelerator):\", engine.trainer.accelerator.__class__.__name__)\n",
        "\n",
        "# Kullanılan cihaz sayısı (örneğin 1 GPU veya CPU)\n",
        "print(\"🖥️ Cihaz Sayısı (devices):\", engine.trainer.num_devices)\n",
        "\n",
        "# Validation (doğrulama) işlemi her ne sıklıkla yapılacak?\n",
        "# 1.0: Her epoch sonunda, 0.5: Yarım epoch'ta bir\n",
        "print(\"🔁 Validation Sıklığı (val_check_interval):\", engine.trainer.val_check_interval)\n",
        "\n",
        "# Eğitim verisinin ne kadarı kullanılacak?\n",
        "# 1.0: %100'ü, 0.5: %50’si\n",
        "print(\"📦 Eğitim Verisi Kullanım Oranı (limit_train_batches):\", engine.trainer.limit_train_batches)\n",
        "\n",
        "# Validation verisinin ne kadarı kullanılacak?\n",
        "# 1.0: %100'ü, 0.2: %20’si\n",
        "print(\"📦 Validation Verisi Kullanım Oranı (limit_val_batches):\", engine.trainer.limit_val_batches)\n",
        "\n",
        "# Kaç adımda bir log (çıktı) yazılsın?\n",
        "print(\"📝 Loglama Aralığı (log_every_n_steps):\", engine.trainer.log_every_n_steps)\n"
      ]
    },
    {
      "cell_type": "code",
      "execution_count": null,
      "metadata": {
        "id": "Z8ORCNWygMZO"
      },
      "outputs": [],
      "source": [
        "engine.test(datamodule=datamodule, model=model)"
      ]
    },
    {
      "cell_type": "code",
      "execution_count": null,
      "metadata": {
        "id": "CY_OtC7VgMWf"
      },
      "outputs": [],
      "source": [
        "data_path = dataset_root / \"bottle/test/broken_large/001.png\"\n",
        "predictions = engine.predict(model=model, data_path=data_path)\n",
        "prediction = predictions[0]  # Get the first and only prediction"
      ]
    },
    {
      "cell_type": "code",
      "execution_count": null,
      "metadata": {
        "id": "6K5DJu_qg8ht"
      },
      "outputs": [],
      "source": [
        "print(\n",
        "    f\"Image Shape: {prediction.image.shape},\\n\"\n",
        "    f\"Anomaly Map Shape: {prediction.anomaly_map.shape}, \\n\"\n",
        "    f\"Predicted Mask Shape: {prediction.pred_mask.shape}\",\n",
        ")"
      ]
    },
    {
      "cell_type": "code",
      "execution_count": null,
      "metadata": {
        "id": "MFvcACG_g8eO"
      },
      "outputs": [],
      "source": [
        "image_path = prediction.image_path[0]\n",
        "image_size = prediction.image.shape[-2:]\n",
        "image = np.array(Image.open(image_path).resize(image_size))"
      ]
    },
    {
      "cell_type": "code",
      "execution_count": null,
      "metadata": {
        "id": "r-zAhxk5g8Xx"
      },
      "outputs": [],
      "source": [
        "pred_score = prediction.pred_score[0]\n",
        "pred_labels = prediction.pred_label[0]\n",
        "print(pred_score, pred_labels)"
      ]
    },
    {
      "cell_type": "code",
      "execution_count": null,
      "metadata": {
        "id": "48OXXuxRg8Uz"
      },
      "outputs": [],
      "source": [
        "from anomalib.deploy import ExportType, OpenVINOInferencer"
      ]
    },
    {
      "cell_type": "code",
      "execution_count": null,
      "metadata": {
        "id": "GLNfrSBUg8Rc"
      },
      "outputs": [],
      "source": [
        "pip install onnx"
      ]
    },
    {
      "cell_type": "code",
      "execution_count": null,
      "metadata": {
        "id": "VLCI1nyzg8Os"
      },
      "outputs": [],
      "source": [
        "engine.export(\n",
        "    model=model,\n",
        "    export_type=ExportType.OPENVINO,\n",
        ")"
      ]
    },
    {
      "cell_type": "code",
      "execution_count": null,
      "metadata": {
        "id": "SPYSDliDRzwf"
      },
      "outputs": [],
      "source": [
        "import matplotlib.pyplot as plt"
      ]
    },
    {
      "cell_type": "code",
      "execution_count": null,
      "metadata": {
        "id": "pmRBTUmbg8Lm"
      },
      "outputs": [],
      "source": [
        "from anomalib.data.utils import read_image\n",
        "\n",
        "image_path = prediction.image_path[0]\n",
        "image = read_image(path=image_path)\n",
        "plt.imshow(image)"
      ]
    },
    {
      "cell_type": "code",
      "execution_count": null,
      "metadata": {
        "id": "IjA222qwg8Ih"
      },
      "outputs": [],
      "source": [
        "# Checking the Model Save Path\n",
        "output_path = Path(engine.trainer.default_root_dir)\n",
        "print(output_path)"
      ]
    },
    {
      "cell_type": "code",
      "execution_count": null,
      "metadata": {
        "id": "ssBdsCQxhd8S"
      },
      "outputs": [],
      "source": [
        "# Verifying the Existence of the OpenVINO Model\n",
        "openvino_model_path = output_path / \"weights\" / \"openvino\" / \"model.bin\"\n",
        "print(openvino_model_path.exists())\n"
      ]
    },
    {
      "cell_type": "code",
      "execution_count": null,
      "metadata": {
        "id": "dvBRoao0hd5B"
      },
      "outputs": [],
      "source": [
        "import time\n",
        "\n",
        "\n",
        "# Zamanlamayı başlat\n",
        "start_time = time.time()\n",
        "\n",
        "# Loading the OpenVINO Model and runs it on an Intel processor\n",
        "inferencer = OpenVINOInferencer(\n",
        "    path=openvino_model_path,  # Path to the OpenVINO IR model.\n",
        "    device=\"CPU\",  # We would like to run it on an Intel CPU.\n",
        ")\n",
        "\n",
        "# Zamanı ölç\n",
        "model_loading_time = time.time() - start_time\n",
        "print(f\"Model loading time: {model_loading_time:.2f} seconds\")"
      ]
    },
    {
      "cell_type": "code",
      "execution_count": null,
      "metadata": {
        "id": "94VWidFihd1y"
      },
      "outputs": [],
      "source": [
        "from anomalib.utils.visualization import ImageResult\n",
        "\n",
        "# Performing Inference (çıkarım yapma) on an Image Using the Model\n",
        "start_time = time.time()\n",
        "predictions = inferencer.predict(image=image_path)\n",
        "\n",
        "# Zamanı ölç\n",
        "inference_time = time.time() - start_time\n",
        "print(f\"Inference time: {inference_time:.2f} seconds\")\n",
        "\n",
        "# 3. Çıktıları görselleştirme\n",
        "start_time = time.time()\n",
        "\n",
        "# Converting the Output for Visualization\n",
        "predictions = ImageResult.from_dataset_item(predictions.items[0])  # convert to imageresult for visualization\n",
        "\n",
        "\n",
        "# Zamanı ölç\n",
        "visualization_time = time.time() - start_time\n",
        "print(f\"Visualization time: {visualization_time:.2f} seconds\")\n",
        "\n",
        "# Toplam süre\n",
        "total_time = model_loading_time + inference_time + visualization_time\n",
        "print(f\"Total time: {total_time:.2f} seconds\")"
      ]
    },
    {
      "cell_type": "code",
      "execution_count": null,
      "metadata": {
        "id": "V5GhkysOhdyz"
      },
      "outputs": [],
      "source": [
        "# Printing the Model Output\n",
        "print(predictions.pred_score, predictions.pred_label)"
      ]
    },
    {
      "cell_type": "code",
      "execution_count": null,
      "metadata": {
        "id": "Ns6Rej2fhl_L"
      },
      "outputs": [],
      "source": [
        "# Görselleri aynı figürde yan yana göstermek için subplot kullanıyoruz.\n",
        "fig, axes = plt.subplots(1, 5, figsize=(20, 5))\n",
        "\n",
        "# Orijinal görüntü\n",
        "axes[0].imshow(predictions.image)\n",
        "axes[0].set_title(\"Original Image\")\n",
        "\n",
        "# Modelin tahmin ettiği ham anomali haritası\n",
        "axes[1].imshow(predictions.anomaly_map)\n",
        "axes[1].set_title(\"Anomaly Map\")\n",
        "\n",
        "# Isı haritası (Ham anomali haritası, orijinal görüntüyle birleştirilmiş hali)\n",
        "axes[2].imshow(predictions.heat_map)\n",
        "axes[2].set_title(\"Heat Map\")\n",
        "\n",
        "# Segmentasyon maskesi (Modelin belirlediği anomali bölgeleri)\n",
        "axes[3].imshow(predictions.pred_mask)\n",
        "axes[3].set_title(\"Predicted Mask\")\n",
        "\n",
        "# Segmentasyon maskesi ile orijinal görüntüyü birleştirilmiş hali\n",
        "axes[4].imshow(predictions.segmentations)\n",
        "axes[4].set_title(\"Segmentations\")\n",
        "\n",
        "# Eksensiz gösterim\n",
        "for ax in axes:\n",
        "    ax.axis(\"off\")\n",
        "\n",
        "# Görselleri göster\n",
        "plt.tight_layout()\n",
        "plt.show()\n"
      ]
    }
  ],
  "metadata": {
    "accelerator": "GPU",
    "colab": {
      "gpuType": "T4",
      "provenance": []
    },
    "kernelspec": {
      "display_name": "Python 3",
      "name": "python3"
    },
    "language_info": {
      "name": "python"
    }
  },
  "nbformat": 4,
  "nbformat_minor": 0
}